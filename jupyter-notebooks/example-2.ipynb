{
 "cells": [
  {
   "cell_type": "markdown",
   "id": "ea216028-c63b-4365-ba9e-6d44e1d9e118",
   "metadata": {},
   "source": [
    "## Example 2: Exploring StateGraph in depth (State, Node, Edges)\n",
    "\n",
    "Reference: [Getting Started with LangGraph: A Beginner’s Guide to Building Intelligent Workflows](https://medium.com/@ashutoshsharmaengg/getting-started-with-langgraph-a-beginners-guide-to-building-intelligent-workflows-67eeee0899d0)"
   ]
  },
  {
   "cell_type": "code",
   "execution_count": 1,
   "id": "07418e1a-dbc1-41bf-90dc-374e3f4051ff",
   "metadata": {
    "scrolled": true
   },
   "outputs": [
    {
     "data": {
      "text/plain": [
       "True"
      ]
     },
     "execution_count": 1,
     "metadata": {},
     "output_type": "execute_result"
    }
   ],
   "source": [
    "from langgraph.graph import StateGraph, START, END\n",
    "from typing import TypedDict, Literal\n",
    "from dotenv import load_dotenv\n",
    "import os\n",
    "import random\n",
    "\n",
    "# This loads the .env file for loading api-key\n",
    "load_dotenv() "
   ]
  },
  {
   "cell_type": "markdown",
   "id": "a4e2fe8a-b9ba-4573-a89a-f9ee1419f36f",
   "metadata": {},
   "source": [
    "The State schema is the input for all nodes and edges. It is the shared memory passed between the nodes. Each node can read from the state and update it."
   ]
  },
  {
   "cell_type": "code",
   "execution_count": 2,
   "id": "f4df3718-93d2-4105-863f-2910ebb99600",
   "metadata": {},
   "outputs": [],
   "source": [
    "# A single key to hold the State (string type)\n",
    "class State(TypedDict): \n",
    "    graph_state: str "
   ]
  },
  {
   "cell_type": "markdown",
   "id": "17553e53-59cc-4c28-a058-5fcbaf3dad73",
   "metadata": {},
   "source": [
    "In a StateGraph, nodes receive the entire current state as their first positional argument. Their return value is used to update the state. \n",
    "\n",
    "By default, if a node returns `{'key': value}`, it will override the existing key in the state.\n",
    "\n",
    "We define 3 nodes in the StateGraph."
   ]
  },
  {
   "cell_type": "code",
   "execution_count": 3,
   "id": "874c0ab2-df15-4764-9600-8f7aef80cc93",
   "metadata": {},
   "outputs": [],
   "source": [
    "def node_1(state):\n",
    "    print('--Node1--')\n",
    "    # Append to the graph_state\n",
    "    return {'graph_state': state['graph_state'] + \"I am taking the CS 7295 class this fall. I am\"}\n",
    "\n",
    "def node_2(state):\n",
    "    print('--Node2--')\n",
    "    return {'graph_state': state['graph_state'] + \" excited!\"}\n",
    "\n",
    "def node_3(state):\n",
    "    print('--Node3--')\n",
    "    return {'graph_state': state['graph_state'] + \" nervous!\"}"
   ]
  },
  {
   "cell_type": "markdown",
   "id": "18356c64-e925-4249-823c-47439b9d67f1",
   "metadata": {},
   "source": [
    "- Directed Edges sequentially move between nodes\n",
    "- Conditional Edges decides path based on outputs of the nodes\n",
    "\n",
    "**Important:** Nodes update the state, while conditional edge functions decide which node to go to next based on the state."
   ]
  },
  {
   "cell_type": "code",
   "execution_count": 4,
   "id": "78701ebd-bede-49aa-b1d5-6f6bf0a9e9dc",
   "metadata": {},
   "outputs": [],
   "source": [
    "# Function to route conditional edge\n",
    "def mood(state) -> Literal[\"node_2\", \"node_3\"]:\n",
    "    user_input = state['graph_state']    # Accessing the current state\n",
    "    if random.random() > 0.5:            # 50% of the time we will return node2          \n",
    "        return 'call node_2'             # This string matches a key in the conditional_edges mapping   \n",
    "    return 'call node_3'                 # 50% of the time we will return node3"
   ]
  },
  {
   "cell_type": "markdown",
   "id": "7088772e-8d4f-41e6-8210-fea40223db7a",
   "metadata": {},
   "source": [
    "### Build graph\n",
    "\n",
    "1. Initialize StateGraph: pass your State class to it\n",
    "2. Add nodes (functions as nodes)\n",
    "3. Define flow with Edges: Connect your nodes\n",
    "    - **add_edge** for direct movement between nodes\n",
    "    - **add_conditional_edges** for decision points\n",
    "4. Set START and END points\n",
    "5. Compile graph"
   ]
  },
  {
   "cell_type": "code",
   "execution_count": 5,
   "id": "8470998b-210b-4b1c-ae63-c91ba57603ab",
   "metadata": {},
   "outputs": [],
   "source": [
    "# Initialize with our defined State\n",
    "workflow = StateGraph(State)         \n",
    "\n",
    "# Add nodes\n",
    "workflow.add_node('node_1',node_1)\n",
    "workflow.add_node('node_2',node_2)\n",
    "workflow.add_node('node_3',node_3)\n",
    "\n",
    "# Define the flow\n",
    "workflow.add_edge(START,'node_1')      # Start at node_1\n",
    "workflow.add_conditional_edges(\n",
    "    'node_1',                          # From node_1\n",
    "    mood,                              # Use mood function to decide\n",
    "    {\n",
    "        'call node_2':'node_2',        # If mood returns 'call node_2', go to node_2\n",
    "        'call node_3':'node_3'         # If mood returns 'call node_3', go to node_3\n",
    "    }\n",
    ")\n",
    "workflow.add_edge('node_2',END)        # From node_2, go to END\n",
    "workflow.add_edge('node_3',END)        # From node_3, go to END\n",
    "app = workflow.compile()               # Compile the graph"
   ]
  },
  {
   "cell_type": "markdown",
   "id": "3d957a9c-eeed-4b98-8f6c-172603a1d558",
   "metadata": {},
   "source": [
    "`invoke()` runs the graph from the START node, and moved through the defined nodes and edges. Once, all nodes are executed, the final state is returned. "
   ]
  },
  {
   "cell_type": "code",
   "execution_count": 6,
   "id": "970d07ef-9ec3-4434-8ad7-9aa994860150",
   "metadata": {},
   "outputs": [
    {
     "name": "stdout",
     "output_type": "stream",
     "text": [
      "--Node1--\n",
      "--Node2--\n",
      "\n",
      "--- Final Result ---\n",
      "Hi! I am taking the CS 7295 class this fall. I am excited!\n"
     ]
    }
   ],
   "source": [
    "# Test the workflow\n",
    "initial_state = {\"graph_state\": \"Hi! \"}\n",
    "result = app.invoke(initial_state)\n",
    "\n",
    "print(\"\\n--- Final Result ---\")\n",
    "print(result['graph_state'])"
   ]
  },
  {
   "cell_type": "markdown",
   "id": "7bfee45c-8128-40ff-b989-785e4277bfd0",
   "metadata": {},
   "source": [
    "Running the workflow multiple times to see different outcomes."
   ]
  },
  {
   "cell_type": "code",
   "execution_count": 7,
   "id": "a3c8a612-2e18-44b2-a5bd-2e151d34bc64",
   "metadata": {},
   "outputs": [
    {
     "name": "stdout",
     "output_type": "stream",
     "text": [
      "=== Testing the workflow ===\n",
      "\n",
      "--- Run 1 ---\n",
      "--Node1--\n",
      "--Node2--\n",
      "Final output: I am taking the CS 7295 class this fall. I am excited!\n",
      "\n",
      "--- Run 2 ---\n",
      "--Node1--\n",
      "--Node2--\n",
      "Final output: I am taking the CS 7295 class this fall. I am excited!\n",
      "\n",
      "--- Run 3 ---\n",
      "--Node1--\n",
      "--Node2--\n",
      "Final output: I am taking the CS 7295 class this fall. I am excited!\n",
      "\n"
     ]
    }
   ],
   "source": [
    "print(\"=== Testing the workflow ===\\n\")\n",
    "\n",
    "for i in range(3):\n",
    "    print(f\"--- Run {i+1} ---\")\n",
    "    initial_state = {\"graph_state\": \"\"}\n",
    "    result = app.invoke(initial_state)\n",
    "    print(f\"Final output: {result['graph_state']}\")\n",
    "    print()"
   ]
  },
  {
   "cell_type": "code",
   "execution_count": null,
   "id": "2bd5f4d9-65ef-4e96-8fbe-fad6cd2c8371",
   "metadata": {},
   "outputs": [],
   "source": []
  }
 ],
 "metadata": {
  "kernelspec": {
   "display_name": "Python 3 (ipykernel)",
   "language": "python",
   "name": "python3"
  },
  "language_info": {
   "codemirror_mode": {
    "name": "ipython",
    "version": 3
   },
   "file_extension": ".py",
   "mimetype": "text/x-python",
   "name": "python",
   "nbconvert_exporter": "python",
   "pygments_lexer": "ipython3",
   "version": "3.12.7"
  }
 },
 "nbformat": 4,
 "nbformat_minor": 5
}
