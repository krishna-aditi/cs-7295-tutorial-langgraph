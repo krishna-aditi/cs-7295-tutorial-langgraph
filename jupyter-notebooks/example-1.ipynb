{
 "cells": [
  {
   "cell_type": "markdown",
   "id": "ea216028-c63b-4365-ba9e-6d44e1d9e118",
   "metadata": {},
   "source": [
    "## Example 1: Call an LLM and then counting the tokens in its response\n",
    "\n",
    "Reference: [Getting Started with LangGraph: A Beginner’s Guide to Building Intelligent Workflows](https://medium.com/@ashutoshsharmaengg/getting-started-with-langgraph-a-beginners-guide-to-building-intelligent-workflows-67eeee0899d0)"
   ]
  },
  {
   "cell_type": "code",
   "execution_count": 1,
   "id": "07418e1a-dbc1-41bf-90dc-374e3f4051ff",
   "metadata": {
    "scrolled": true
   },
   "outputs": [
    {
     "data": {
      "text/plain": [
       "True"
      ]
     },
     "execution_count": 1,
     "metadata": {},
     "output_type": "execute_result"
    }
   ],
   "source": [
    "from langchain_openai import ChatOpenAI\n",
    "from langgraph.graph import StateGraph\n",
    "from dotenv import load_dotenv\n",
    "import os\n",
    "# This loads the .env file for loading api-key\n",
    "load_dotenv() "
   ]
  },
  {
   "cell_type": "code",
   "execution_count": 2,
   "id": "874c0ab2-df15-4764-9600-8f7aef80cc93",
   "metadata": {},
   "outputs": [],
   "source": [
    "# Initialize an LLM\n",
    "def llm(state):\n",
    "    model = ChatOpenAI(model='gpt-4o-mini')\n",
    "    output = model.invoke(state[\"input\"])\n",
    "    # Return the input and returned the text llm content\n",
    "    return {\"input\": state[\"input\"], \"llm_output\": output.content} "
   ]
  },
  {
   "cell_type": "code",
   "execution_count": 3,
   "id": "78701ebd-bede-49aa-b1d5-6f6bf0a9e9dc",
   "metadata": {},
   "outputs": [],
   "source": [
    "# Split the text into words\n",
    "def token_counter(state):\n",
    "    tokens = str(state[\"llm_output\"]).split()\n",
    "    count_no = len(tokens)\n",
    "    return {**state, \"token_count\": count_no}"
   ]
  },
  {
   "cell_type": "code",
   "execution_count": 4,
   "id": "8470998b-210b-4b1c-ae63-c91ba57603ab",
   "metadata": {},
   "outputs": [],
   "source": [
    "workflow = StateGraph(dict)\n",
    "\n",
    "# Add llm function as a node\n",
    "workflow.add_node('LLM_Model', llm) \n",
    "# Add token_counter as a node\n",
    "workflow.add_node('Get_Token_Counter', token_counter)   \n",
    "\n",
    "# LLM output goes to token counter\n",
    "workflow.add_edge('LLM_Model', 'Get_Token_Counter')   \n",
    "\n",
    "# Start here\n",
    "workflow.set_entry_point('LLM_Model')    \n",
    "# End here\n",
    "workflow.set_finish_point('Get_Token_Counter')  \n",
    "\n",
    "# Compile the graph\n",
    "app = workflow.compile()"
   ]
  },
  {
   "cell_type": "code",
   "execution_count": 5,
   "id": "970d07ef-9ec3-4434-8ad7-9aa994860150",
   "metadata": {},
   "outputs": [
    {
     "name": "stdout",
     "output_type": "stream",
     "text": [
      "LLM Output: Why do programmers prefer dark mode?\n",
      "\n",
      "Because light attracts bugs!\n",
      "Token Count: 10\n"
     ]
    }
   ],
   "source": [
    "# Usage:\n",
    "result = app.invoke({\"input\": \"Tell me a joke about programming\"})\n",
    "print(f\"LLM Output: {result['llm_output']}\")\n",
    "print(f\"Token Count: {result['token_count']}\")"
   ]
  },
  {
   "cell_type": "code",
   "execution_count": null,
   "id": "a3c8a612-2e18-44b2-a5bd-2e151d34bc64",
   "metadata": {},
   "outputs": [],
   "source": []
  },
  {
   "cell_type": "code",
   "execution_count": null,
   "id": "2bd5f4d9-65ef-4e96-8fbe-fad6cd2c8371",
   "metadata": {},
   "outputs": [],
   "source": []
  }
 ],
 "metadata": {
  "kernelspec": {
   "display_name": "Python 3 (ipykernel)",
   "language": "python",
   "name": "python3"
  },
  "language_info": {
   "codemirror_mode": {
    "name": "ipython",
    "version": 3
   },
   "file_extension": ".py",
   "mimetype": "text/x-python",
   "name": "python",
   "nbconvert_exporter": "python",
   "pygments_lexer": "ipython3",
   "version": "3.12.7"
  }
 },
 "nbformat": 4,
 "nbformat_minor": 5
}
